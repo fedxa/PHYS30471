{
  "nbformat": 4,
  "nbformat_minor": 0,
  "metadata": {
    "colab": {
      "name": "RK4.ipynb",
      "version": "0.3.2",
      "provenance": [],
      "include_colab_link": true
    },
    "kernelspec": {
      "name": "python3",
      "display_name": "Python 3"
    }
  },
  "cells": [
    {
      "cell_type": "markdown",
      "metadata": {
        "id": "view-in-github",
        "colab_type": "text"
      },
      "source": [
        "<a href=\"https://colab.research.google.com/github/fedxa/PHYS30471/blob/master/RK4.ipynb\" target=\"_parent\"><img src=\"https://colab.research.google.com/assets/colab-badge.svg\" alt=\"Open In Colab\"/></a>"
      ]
    },
    {
      "cell_type": "markdown",
      "metadata": {
        "id": "6DMOsByKk_M4",
        "colab_type": "text"
      },
      "source": [
        "# Runge-Kutta 4th order method"
      ]
    },
    {
      "cell_type": "code",
      "metadata": {
        "id": "5V0rGYgmfuWa",
        "colab_type": "code",
        "colab": {}
      },
      "source": [
        "# This is a standard initalisation code - no need to change this\n",
        "# It loads basic fast array code, plot library and ODE solver\n",
        "import math\n",
        "import numpy as np\n",
        "import matplotlib.pyplot as plt\n",
        "from scipy.integrate import solve_ivp\n",
        "%matplotlib inline\n",
        "%config InlineBackend.figure_formats={'retina','png'}"
      ],
      "execution_count": 0,
      "outputs": []
    },
    {
      "cell_type": "code",
      "metadata": {
        "id": "DRK3WXOXf_1l",
        "colab_type": "code",
        "colab": {}
      },
      "source": [
        "def f(t, x):\n",
        "    return x"
      ],
      "execution_count": 0,
      "outputs": []
    },
    {
      "cell_type": "code",
      "metadata": {
        "id": "PVrszgEQhRGd",
        "colab_type": "code",
        "colab": {}
      },
      "source": [
        "## initial time and position\n",
        "t = 0\n",
        "x = 2\n",
        "\n",
        "## step\n",
        "h = 0.2\n",
        "\n",
        "## Lists to store the solution, and store the initial point\n",
        "ti = [t]\n",
        "xi = [x]\n",
        "\n",
        "while t < 1.0:\n",
        "    K1 = h*f(t, x)\n",
        "    K2 = h*f(t+h/2, x+K1/2)\n",
        "    K3 = h*f(t+h/2, x+K2/2)\n",
        "    K4 = h*f(t+h, x+K3)\n",
        "    x = x+K1/6+K2/3+K3/3+K4/6\n",
        "    t = t+h\n",
        "    xi.append(x)\n",
        "    ti.append(t)\n",
        "\n",
        "print(\"ti=\", ti)\n",
        "print(\"xi=\", xi)"
      ],
      "execution_count": 0,
      "outputs": []
    },
    {
      "cell_type": "code",
      "metadata": {
        "id": "t_BuqP_Ri9lo",
        "colab_type": "code",
        "colab": {}
      },
      "source": [
        "fig, ax = plt.subplots(1)\n",
        "\n",
        "ax.scatter(ti, xi, label=\"RK4\")\n",
        "ax.set_xlabel(\"$t$\")\n",
        "fig.legend()\n"
      ],
      "execution_count": 0,
      "outputs": []
    },
    {
      "cell_type": "code",
      "metadata": {
        "id": "tjsP0CwGjWrp",
        "colab_type": "code",
        "colab": {}
      },
      "source": [
        "xexact = np.exp(ti)\n",
        "\n",
        "ax.plot(ti, xexact, label=\"Exact solution\")\n",
        "fig.legend()\n",
        "fig"
      ],
      "execution_count": 0,
      "outputs": []
    },
    {
      "cell_type": "code",
      "metadata": {
        "id": "8WV_Nr_pk6sU",
        "colab_type": "code",
        "colab": {}
      },
      "source": [
        ""
      ],
      "execution_count": 0,
      "outputs": []
    }
  ]
}