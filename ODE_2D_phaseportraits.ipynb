{
 "cells": [
  {
   "cell_type": "markdown",
   "metadata": {
    "colab_type": "text",
    "id": "RUr9ca-OUc_z"
   },
   "source": [
    "# Basic 2-dimensional ODE solution"
   ]
  },
  {
   "cell_type": "code",
   "execution_count": null,
   "metadata": {
    "colab": {},
    "colab_type": "code",
    "id": "HHt7iTCJUc_2"
   },
   "outputs": [],
   "source": [
    "# This is a standard initalisation code - no need to change this\n",
    "# It loads basic fast array code, plot library and ODE solver\n",
    "import numpy as np\n",
    "import matplotlib.pyplot as plt\n",
    "from scipy.integrate import solve_ivp\n",
    "%matplotlib inline\n",
    "%config InlineBackend.figure_formats={'retina','png'}"
   ]
  },
  {
   "cell_type": "code",
   "execution_count": null,
   "metadata": {
    "colab": {},
    "colab_type": "code",
    "id": "Eq_qTup2UdAN"
   },
   "outputs": [],
   "source": [
    "def f(t, X):\n",
    "    x1 = X[0]\n",
    "    x2 = X[1]\n",
    "    return [ x2,\n",
    "             -np.sin(x1) ]"
   ]
  },
  {
   "cell_type": "code",
   "execution_count": null,
   "metadata": {
    "colab": {},
    "colab_type": "code",
    "id": "Eq_qTup2UdAN"
   },
   "outputs": [],
   "source": [
    "def f(t, X):\n",
    "    x1 = X[0]\n",
    "    x2 = X[1]\n",
    "    return [   x1+  x2,\n",
    "             4*x1-2*x2 ]"
   ]
  },
  {
   "cell_type": "code",
   "execution_count": null,
   "metadata": {
    "colab": {},
    "colab_type": "code",
    "id": "Eq_qTup2UdAN"
   },
   "outputs": [],
   "source": [
    "a=-10\n",
    "def f(t, X):\n",
    "    x = X[0]\n",
    "    y = X[1]\n",
    "    return [ -y + (a-x*x-y*y)*x,\n",
    "              x + (a-x*x-y*y)*y ]"
   ]
  },
  {
   "cell_type": "code",
   "execution_count": null,
   "metadata": {
    "colab": {},
    "colab_type": "code",
    "id": "Eq_qTup2UdAN"
   },
   "outputs": [],
   "source": [
    "X2, X1 = np.mgrid[-3:3:300j, -4:4:300j]\n",
    "U, V = f(0, [X1, X2])\n",
    "\n",
    "plt.figure(figsize=(12,9))\n",
    "plt.streamplot(X1, X2, U, V)"
   ]
  },
  {
   "cell_type": "markdown",
   "metadata": {
    "colab_type": "text",
    "id": "ZOOi3A0IUdBO"
   },
   "source": [
    "## Trajectories"
   ]
  },
  {
   "cell_type": "code",
   "execution_count": null,
   "metadata": {
    "colab": {
     "base_uri": "https://localhost:8080/",
     "height": 325
    },
    "colab_type": "code",
    "id": "tEzY8k-BUdA4",
    "outputId": "2d110c17-d493-4ac9-ca6b-6af9247e482e"
   },
   "outputs": [],
   "source": [
    "tspan = (0, 1.5) # time range for the solution\n",
    "x0 = [0.0, 1.5]  # initial conditions\n",
    "\n",
    "t_eval = np.linspace(tspan[0], tspan[1], num=100) # Make reported solution \"smooth\"\n",
    "## Solve, and return solution at t_eval moments\n",
    "xs = solve_ivp(f, tspan, x0, t_eval=t_eval)\n",
    "#print(xs)\n",
    "\n",
    "fig = plt.figure(figsize=(12,3))\n",
    "ax1, ax2 = fig.subplots(1,2)\n",
    "\n",
    "ax1.plot(xs.t, xs.y[0,:], label=\"$x_1$\")\n",
    "ax1.plot(xs.t, xs.y[1,:], label=\"$x_2$\")\n",
    "ax1.set_xlabel(\"$t$\")\n",
    "ax1.grid()\n",
    "ax1.legend()\n",
    "\n",
    "ax2.plot(xs.y[0,:], xs.y[1,:])\n",
    "ax2.set_xlabel(\"$x_1$\")\n",
    "ax2.set_ylabel(\"$x_2$\")\n",
    "ax2.grid()"
   ]
  },
  {
   "cell_type": "code",
   "execution_count": null,
   "metadata": {},
   "outputs": [],
   "source": []
  }
 ],
 "metadata": {
  "celltoolbar": "Edit Metadata",
  "colab": {
   "name": "ODE_2D.ipynb",
   "provenance": [],
   "version": "0.3.2"
  },
  "kernelspec": {
   "display_name": "Python 3",
   "language": "python",
   "name": "python3"
  },
  "language_info": {
   "codemirror_mode": {
    "name": "ipython",
    "version": 3
   },
   "file_extension": ".py",
   "mimetype": "text/x-python",
   "name": "python",
   "nbconvert_exporter": "python",
   "pygments_lexer": "ipython3",
   "version": "3.7.3"
  }
 },
 "nbformat": 4,
 "nbformat_minor": 1
}
